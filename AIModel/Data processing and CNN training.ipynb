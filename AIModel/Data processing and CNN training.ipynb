{
  "nbformat": 4,
  "nbformat_minor": 0,
  "metadata": {
    "colab": {
      "provenance": [],
      "authorship_tag": "ABX9TyMqToxscfm1fDI/Lj/tIwWt"
    },
    "kernelspec": {
      "name": "python3",
      "display_name": "Python 3"
    },
    "language_info": {
      "name": "python"
    }
  },
  "cells": [
    {
      "cell_type": "markdown",
      "source": [
        " # Training of the AI model with Google Colab for faster trainig"
      ],
      "metadata": {
        "id": "5rtXK8wUNsgP"
      }
    },
    {
      "cell_type": "markdown",
      "source": [
        "#### Importing face mask dataset from Google Drive"
      ],
      "metadata": {
        "id": "dA9vcANsNude"
      }
    },
    {
      "cell_type": "code",
      "source": [
        "from google.colab import drive\n",
        "drive.mount('/content/drive')"
      ],
      "metadata": {
        "colab": {
          "base_uri": "https://localhost:8080/"
        },
        "id": "lNLM11JzNzAi",
        "outputId": "ba0faf8e-8124-47e0-deac-c223a0c01f97"
      },
      "execution_count": 1,
      "outputs": [
        {
          "output_type": "stream",
          "name": "stdout",
          "text": [
            "Mounted at /content/drive\n"
          ]
        }
      ]
    },
    {
      "cell_type": "markdown",
      "source": [
        "#### Unzipping images:"
      ],
      "metadata": {
        "id": "5qmm-2D1N-uv"
      }
    },
    {
      "cell_type": "code",
      "source": [
        "import os\n",
        "from zipfile import ZipFile\n",
        "\n",
        "path = r'/content/drive/My Drive/Data/FaceMask_Dataset'\n",
        "\n",
        "for zip in os.listdir(path):\n",
        "  file_name = os.path.join(path, zip)\n",
        "  print('Unziping: ' + file_name)\n",
        "  with ZipFile(file_name, 'r') as zip:\n",
        "    zip.extractall()\n",
        "    print('Done')"
      ],
      "metadata": {
        "colab": {
          "base_uri": "https://localhost:8080/"
        },
        "id": "Rx9DhdTDN9Pv",
        "outputId": "9238f07d-6e0d-4351-8086-1ea8e8fd7fa4"
      },
      "execution_count": 2,
      "outputs": [
        {
          "output_type": "stream",
          "name": "stdout",
          "text": [
            "Unziping: /content/drive/My Drive/Data/FaceMask_Dataset/OkFaceMask.zip\n",
            "Done\n",
            "Unziping: /content/drive/My Drive/Data/FaceMask_Dataset/NoFaceMask.zip\n",
            "Done\n",
            "Unziping: /content/drive/My Drive/Data/FaceMask_Dataset/BadFaceMask.zip\n",
            "Done\n"
          ]
        }
      ]
    }
  ]
}