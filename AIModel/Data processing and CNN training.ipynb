{
  "nbformat": 4,
  "nbformat_minor": 0,
  "metadata": {
    "colab": {
      "provenance": [],
      "authorship_tag": "ABX9TyNqszxyTSv6hKm8wDsaO5C8"
    },
    "kernelspec": {
      "name": "python3",
      "display_name": "Python 3"
    },
    "language_info": {
      "name": "python"
    }
  },
  "cells": [
    {
      "cell_type": "markdown",
      "source": [
        " # Training of the AI model with Google Colab for faster training"
      ],
      "metadata": {
        "id": "5rtXK8wUNsgP"
      }
    },
    {
      "cell_type": "markdown",
      "source": [
        "#### Importing face mask dataset from Google Drive:"
      ],
      "metadata": {
        "id": "dA9vcANsNude"
      }
    },
    {
      "cell_type": "code",
      "source": [
        "from google.colab import drive\n",
        "drive.mount('/content/drive')"
      ],
      "metadata": {
        "colab": {
          "base_uri": "https://localhost:8080/"
        },
        "id": "lNLM11JzNzAi",
        "outputId": "cdf4c9a4-be56-4cd6-aedd-94fbfe636ec7"
      },
      "execution_count": 1,
      "outputs": [
        {
          "output_type": "stream",
          "name": "stdout",
          "text": [
            "Mounted at /content/drive\n"
          ]
        }
      ]
    },
    {
      "cell_type": "markdown",
      "source": [
        "#### Unzipping images:"
      ],
      "metadata": {
        "id": "5qmm-2D1N-uv"
      }
    },
    {
      "cell_type": "code",
      "source": [
        "import os\n",
        "from zipfile import ZipFile\n",
        "\n",
        "path = r'/content/drive/My Drive/Data/FaceMask_Dataset'\n",
        "\n",
        "for zip in os.listdir(path):\n",
        "  file_name = os.path.join(path, zip)\n",
        "  print('Unziping: ' + file_name)\n",
        "  with ZipFile(file_name, 'r') as zip:\n",
        "    zip.extractall()\n",
        "    print('Done')"
      ],
      "metadata": {
        "colab": {
          "base_uri": "https://localhost:8080/"
        },
        "id": "Rx9DhdTDN9Pv",
        "outputId": "b8050088-b032-45e3-95fd-00db3e8d9e1a"
      },
      "execution_count": 2,
      "outputs": [
        {
          "output_type": "stream",
          "name": "stdout",
          "text": [
            "Unziping: /content/drive/My Drive/Data/FaceMask_Dataset/OkFaceMask.zip\n",
            "Done\n",
            "Unziping: /content/drive/My Drive/Data/FaceMask_Dataset/NoFaceMask.zip\n",
            "Done\n",
            "Unziping: /content/drive/My Drive/Data/FaceMask_Dataset/BadFaceMask.zip\n",
            "Done\n"
          ]
        }
      ]
    },
    {
      "cell_type": "markdown",
      "source": [
        "#### Preparing the input data (images) and the output (prediction):"
      ],
      "metadata": {
        "id": "NgwVhiVXZvH7"
      }
    },
    {
      "cell_type": "code",
      "source": [
        "import pathlib\n",
        "import cv2\n",
        "import numpy as np\n",
        "\n",
        "imageSize = 100\n",
        "channel = 1 \n",
        "path = '/content'\n",
        "X = [] # Data\n",
        "Y = [] # Label\n",
        "\n",
        "dict_label  = { 'NoFaceMask':0 , 'OkFaceMask':1 , 'BadFaceMask':2 }\n",
        "\n",
        "faceMaskDirectories = [str(directory) for directory in pathlib.Path(path).glob('*') if 'Mask' in str(directory)]\n",
        "\n",
        "for directory in faceMaskDirectories:\n",
        "  for image in pathlib.Path(directory).glob('*/*'):\n",
        "    if image.suffix in {'.jpg', '.png'}:\n",
        "      img = cv2.imread(str(image), 0)\n",
        "      X.append(img)\n",
        "      Y.append(dict_label[directory.split('/')[-1]])"
      ],
      "metadata": {
        "id": "wYMT-5HqZvnK"
      },
      "execution_count": 3,
      "outputs": []
    }
  ]
}